{
 "cells": [
  {
   "cell_type": "code",
   "execution_count": 1,
   "metadata": {
    "collapsed": true
   },
   "outputs": [],
   "source": [
    "import pandas as pd\n",
    "from pandas import *\n",
    "import numpy as np\n",
    "import csv\n",
    "from sklearn.cluster import KMeans\n",
    "import numpy as np\n",
    "from kmeans import *\n",
    "import random\n",
    "\n",
    "data = pd.read_csv('data/dataset.csv')\n",
    "data.drop('time', axis=1, inplace=True)\n",
    "data.drop('timeofday', axis=1, inplace=True)\n",
    "data.drop('date', axis=1, inplace=True)\n",
    "data.drop('price', axis=1, inplace=True)\n",
    "\n",
    "gdata = data.groupby(['isin','side']).sum()"
   ]
  },
  {
   "cell_type": "code",
   "execution_count": 29,
   "metadata": {
    "collapsed": false
   },
   "outputs": [
    {
     "data": {
      "text/plain": [
       "751253475000"
      ]
     },
     "execution_count": 29,
     "metadata": {},
     "output_type": "execute_result"
    }
   ],
   "source": [
    "data.groupby(['side']).sum().loc['B']['volume']"
   ]
  },
  {
   "cell_type": "code",
   "execution_count": 2,
   "metadata": {
    "collapsed": false
   },
   "outputs": [],
   "source": [
    "from kmeans import *\n",
    "arr = get_cluster()\n",
    "clist = arr[['cluster']]\n",
    "gcl = clist.groupby('cluster')"
   ]
  },
  {
   "cell_type": "code",
   "execution_count": 3,
   "metadata": {
    "collapsed": false
   },
   "outputs": [],
   "source": [
    "csmap = {}\n",
    "isinlist = []\n",
    "for i,j in gcl:\n",
    "    csmap[i]=list(j.index)\n",
    "    for k in j.index:\n",
    "\t    isinlist.append(k)\n",
    "\n",
    "# print isinlist"
   ]
  },
  {
   "cell_type": "code",
   "execution_count": 14,
   "metadata": {
    "collapsed": true
   },
   "outputs": [],
   "source": [
    "def z_func(a,b):\n",
    "    x = (a - b)*(a - b)\n",
    "    sum_sq = 0\n",
    "    for j in x:\n",
    "        sum_sq += j\n",
    "    print sum_sq\n",
    "    return sum_sq"
   ]
  },
  {
   "cell_type": "code",
   "execution_count": 15,
   "metadata": {
    "collapsed": false
   },
   "outputs": [
    {
     "name": "stdout",
     "output_type": "stream",
     "text": [
      "0.0\n",
      "0.051687595941\n"
     ]
    }
   ],
   "source": [
    "for k in isinlist[0:1]:\n",
    "    cluster = arr.loc[k]['cluster']\n",
    "    bonds = csmap[cluster]\n",
    "    for bond in bonds[0:2]:\n",
    "        try:\n",
    "            temp = z_func( arr.loc[bond], arr.loc[k] )\n",
    "        except Exception as e:\n",
    "            pass"
   ]
  },
  {
   "cell_type": "code",
   "execution_count": null,
   "metadata": {
    "collapsed": true
   },
   "outputs": [],
   "source": []
  }
 ],
 "metadata": {
  "kernelspec": {
   "display_name": "Python 2",
   "language": "python",
   "name": "python2"
  },
  "language_info": {
   "codemirror_mode": {
    "name": "ipython",
    "version": 2
   },
   "file_extension": ".py",
   "mimetype": "text/x-python",
   "name": "python",
   "nbconvert_exporter": "python",
   "pygments_lexer": "ipython2",
   "version": "2.7.12"
  }
 },
 "nbformat": 4,
 "nbformat_minor": 1
}
