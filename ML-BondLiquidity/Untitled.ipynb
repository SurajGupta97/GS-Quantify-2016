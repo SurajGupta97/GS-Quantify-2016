{
 "cells": [
  {
   "cell_type": "code",
   "execution_count": 16,
   "metadata": {
    "collapsed": false,
    "scrolled": false
   },
   "outputs": [
    {
     "name": "stdout",
     "output_type": "stream",
     "text": [
      "Cleaning Data\n",
      "Cleaned Numerical Fields\n",
      "Cleaned Categorical Fields\n",
      "Cleaned Date Fields\n",
      "Cleaned Bool Fields\n"
     ]
    }
   ],
   "source": [
    "from sklearn.cluster import KMeans\n",
    "import numpy as np\n",
    "from preprocess import *\n",
    "\n",
    "def get_kmeans(arr, k):\n",
    "\tkmeans = KMeans(n_clusters=k, random_state=0).fit(arr)\n",
    "\treturn kmeans\n",
    "\n",
    "if __name__ == '__main__':\n",
    "\t# arr = np.array([[1, 2], [1, 4], [1, 0], [4, 2], [4, 4], [4, 0]])\n",
    "\t# arr = prepare_data().as_matrix()\n",
    "    arr = prepare_data()\n",
    "    fields = arr\n",
    "    arr = arr.values"
   ]
  },
  {
   "cell_type": "code",
   "execution_count": 17,
   "metadata": {
    "collapsed": false
   },
   "outputs": [],
   "source": [
    "    ans = get_kmeans(arr,1000)"
   ]
  },
  {
   "cell_type": "code",
   "execution_count": 30,
   "metadata": {
    "collapsed": false
   },
   "outputs": [
    {
     "name": "stdout",
     "output_type": "stream",
     "text": [
      "<class 'pandas.core.frame.DataFrame'>\n",
      "Index: 17261 entries, isin0 to isin17328\n",
      "Data columns (total 24 columns):\n",
      "issuer                        17261 non-null int64\n",
      "issueDate                     17261 non-null int64\n",
      "market                        17261 non-null int64\n",
      "amtIssued                     17261 non-null float64\n",
      "amtOutstanding                17261 non-null float64\n",
      "collateralType                17261 non-null int64\n",
      "coupon                        17261 non-null float64\n",
      "couponFrequency               17261 non-null int64\n",
      "couponType                    17261 non-null int64\n",
      "industryGroup                 17261 non-null int64\n",
      "industrySector                17261 non-null int64\n",
      "industrySubgroup              17261 non-null int64\n",
      "maturity                      17261 non-null int64\n",
      "maturityType                  17261 non-null int64\n",
      "securityType                  17261 non-null int64\n",
      "paymentRank                   17261 non-null int64\n",
      "144aFlag                      17261 non-null int64\n",
      "ratingAgency1Rating           17261 non-null int64\n",
      "ratingAgency1Watch            17261 non-null int64\n",
      "ratingAgency1EffectiveDate    17261 non-null int64\n",
      "ratingAgency2Rating           17261 non-null int64\n",
      "ratingAgency2Watch            17261 non-null int64\n",
      "ratingAgency2EffectiveDate    17261 non-null int64\n",
      "cluster                       17261 non-null int32\n",
      "dtypes: float64(3), int32(1), int64(20)\n",
      "memory usage: 3.2+ MB\n"
     ]
    },
    {
     "data": {
      "text/plain": [
       "396.0"
      ]
     },
     "execution_count": 30,
     "metadata": {},
     "output_type": "execute_result"
    }
   ],
   "source": [
    "    fields['cluster'] = ans.labels_\n",
    "    fields.info()\n",
    "    fields.loc['isin10033']['cluster']"
   ]
  }
 ],
 "metadata": {
  "kernelspec": {
   "display_name": "Python 2",
   "language": "python",
   "name": "python2"
  },
  "language_info": {
   "codemirror_mode": {
    "name": "ipython",
    "version": 2
   },
   "file_extension": ".py",
   "mimetype": "text/x-python",
   "name": "python",
   "nbconvert_exporter": "python",
   "pygments_lexer": "ipython2",
   "version": "2.7.12"
  }
 },
 "nbformat": 4,
 "nbformat_minor": 1
}
