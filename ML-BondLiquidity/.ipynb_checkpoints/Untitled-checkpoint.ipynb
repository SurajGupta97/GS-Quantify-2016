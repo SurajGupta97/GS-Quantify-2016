{
 "cells": [
  {
   "cell_type": "code",
   "execution_count": 16,
   "metadata": {
    "collapsed": false,
    "scrolled": false
   },
   "outputs": [
    {
     "name": "stdout",
     "output_type": "stream",
     "text": [
      "Cleaning Data\n",
      "Cleaned Numerical Fields\n",
      "Cleaned Categorical Fields\n",
      "Cleaned Date Fields\n",
      "Cleaned Bool Fields\n"
     ]
    }
   ],
   "source": [
    "from sklearn.cluster import KMeans\n",
    "import numpy as np\n",
    "from preprocess import *\n",
    "\n",
    "def get_kmeans(arr, k):\n",
    "\tkmeans = KMeans(n_clusters=k, random_state=0).fit(arr)\n",
    "\treturn kmeans\n",
    "\n",
    "if __name__ == '__main__':\n",
    "\t# arr = np.array([[1, 2], [1, 4], [1, 0], [4, 2], [4, 4], [4, 0]])\n",
    "\t# arr = prepare_data().as_matrix()\n",
    "    arr = prepare_data()\n",
    "    fields = arr\n",
    "    arr = arr.values"
   ]
  },
  {
   "cell_type": "code",
   "execution_count": 17,
   "metadata": {
    "collapsed": false
   },
   "outputs": [],
   "source": [
    "    ans = get_kmeans(arr,1000)"
   ]
  },
  {
   "cell_type": "code",
   "execution_count": 13,
   "metadata": {
    "collapsed": false
   },
   "outputs": [
    {
     "data": {
      "text/plain": [
       "array([[  1.80728019e+03,   1.58527874e+04,   1.39130435e+00, ...,\n",
       "          1.02512077e+01,   2.08166817e-16,   1.63158551e+04],\n",
       "       [  1.99931336e+03,   1.58758641e+04,   9.90783410e-01, ...,\n",
       "          8.07603687e+00,   7.14285714e-02,   1.63701912e+04],\n",
       "       [  2.08342052e+03,   1.55645151e+04,   8.83299799e-01, ...,\n",
       "          9.94164990e+00,   8.85311871e-02,   1.62397847e+04],\n",
       "       ..., \n",
       "       [  1.02800000e+03,   1.23120000e+04,   0.00000000e+00, ...,\n",
       "          1.20000000e+01,   0.00000000e+00,   1.65190000e+04],\n",
       "       [  2.21400000e+03,   1.09130000e+04,   0.00000000e+00, ...,\n",
       "          9.00000000e+00,   0.00000000e+00,   1.55330000e+04],\n",
       "       [  6.32666667e+02,   1.31560000e+04,   6.66666667e-01, ...,\n",
       "          1.20000000e+01,   0.00000000e+00,   1.64846667e+04]])"
      ]
     },
     "execution_count": 13,
     "metadata": {},
     "output_type": "execute_result"
    }
   ],
   "source": [
    "    ans.cluster_centers_"
   ]
  },
  {
   "cell_type": "code",
   "execution_count": 24,
   "metadata": {
    "collapsed": false
   },
   "outputs": [
    {
     "name": "stdout",
     "output_type": "stream",
     "text": [
      "<class 'pandas.core.frame.DataFrame'>\n",
      "Index: 17261 entries, isin0 to isin17328\n",
      "Data columns (total 23 columns):\n",
      "issuer                        17261 non-null int64\n",
      "issueDate                     17261 non-null int64\n",
      "market                        17261 non-null int64\n",
      "amtIssued                     17261 non-null float64\n",
      "amtOutstanding                17261 non-null float64\n",
      "collateralType                17261 non-null int64\n",
      "coupon                        17261 non-null float64\n",
      "couponFrequency               17261 non-null int64\n",
      "couponType                    17261 non-null int64\n",
      "industryGroup                 17261 non-null int64\n",
      "industrySector                17261 non-null int64\n",
      "industrySubgroup              17261 non-null int64\n",
      "maturity                      17261 non-null int64\n",
      "maturityType                  17261 non-null int64\n",
      "securityType                  17261 non-null int64\n",
      "paymentRank                   17261 non-null int64\n",
      "144aFlag                      17261 non-null int64\n",
      "ratingAgency1Rating           17261 non-null int64\n",
      "ratingAgency1Watch            17261 non-null int64\n",
      "ratingAgency1EffectiveDate    17261 non-null int64\n",
      "ratingAgency2Rating           17261 non-null int64\n",
      "ratingAgency2Watch            17261 non-null int64\n",
      "ratingAgency2EffectiveDate    17261 non-null int64\n",
      "dtypes: float64(3), int64(20)\n",
      "memory usage: 3.2+ MB\n"
     ]
    }
   ],
   "source": [
    "    type(ans.labels_)\n",
    "#     fields.add('')"
   ]
  },
  {
   "cell_type": "code",
   "execution_count": null,
   "metadata": {
    "collapsed": true
   },
   "outputs": [],
   "source": [
    "    "
   ]
  }
 ],
 "metadata": {
  "kernelspec": {
   "display_name": "Python 2",
   "language": "python",
   "name": "python2"
  },
  "language_info": {
   "codemirror_mode": {
    "name": "ipython",
    "version": 2
   },
   "file_extension": ".py",
   "mimetype": "text/x-python",
   "name": "python",
   "nbconvert_exporter": "python",
   "pygments_lexer": "ipython2",
   "version": "2.7.12"
  }
 },
 "nbformat": 4,
 "nbformat_minor": 1
}
